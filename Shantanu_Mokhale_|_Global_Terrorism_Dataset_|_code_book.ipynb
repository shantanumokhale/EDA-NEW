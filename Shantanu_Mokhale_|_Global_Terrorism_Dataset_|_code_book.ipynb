{
  "nbformat": 4,
  "nbformat_minor": 0,
  "metadata": {
    "colab": {
      "private_outputs": true,
      "provenance": [],
      "collapsed_sections": [
        "w6K7xa23Elo4",
        "yQaldy8SH6Dl",
        "PH-0ReGfmX4f"
      ],
      "include_colab_link": true
    },
    "kernelspec": {
      "name": "python3",
      "display_name": "Python 3"
    },
    "language_info": {
      "name": "python"
    },
    "accelerator": "GPU",
    "gpuClass": "standard"
  },
  "cells": [
    {
      "cell_type": "markdown",
      "metadata": {
        "id": "view-in-github",
        "colab_type": "text"
      },
      "source": [
        "<a href=\"https://colab.research.google.com/github/shantanumokhale/EDA-NEW/blob/main/Shantanu_Mokhale_%7C_Global_Terrorism_Dataset_%7C_code_book.ipynb\" target=\"_parent\"><img src=\"https://colab.research.google.com/assets/colab-badge.svg\" alt=\"Open In Colab\"/></a>"
      ]
    },
    {
      "cell_type": "markdown",
      "source": [
        "# **Project Name**    - Global Terrorism Dataset\n",
        "\n"
      ],
      "metadata": {
        "id": "vncDsAP0Gaoa"
      }
    },
    {
      "cell_type": "markdown",
      "source": [
        "##### **Project Type**    - EDA\n",
        "##### **Contribution**    - Individual\n",
        "##### **Member  -**  Shantanu Mokhale\n"
      ],
      "metadata": {
        "id": "beRrZCGUAJYm"
      }
    },
    {
      "cell_type": "markdown",
      "source": [
        "# **Project Summary -**"
      ],
      "metadata": {
        "id": "FJNUwmbgGyua"
      }
    },
    {
      "cell_type": "markdown",
      "source": [
        "Global Terrorism dataset, which has over 191k records of the incidents related to terrorism from 1970 to 2018 is managed by The National Consortium for the Study of Terrorism and Responses to Terrorism (START) at the University of Maryland, College Park. \\\n",
        "It was established in 2005 as a U.S Department of Homeland Security Center of Excellence. \\\n",
        "Apart from the city and the country, the dataset also specifies the latitude and longitude of the attacks thereby giving accurate locations that can help in data visualization. With the help of abundant features available in this dataset, we can find out the intensity of attacks by region for a particular year, whether there are any temporal or geographical trends in the attacks and the relationships between the characteristics of attacks and their success and failure rates."
      ],
      "metadata": {
        "id": "F6v_1wHtG2nS"
      }
    },
    {
      "cell_type": "markdown",
      "source": [
        "# **GitHub Link -**"
      ],
      "metadata": {
        "id": "w6K7xa23Elo4"
      }
    },
    {
      "cell_type": "markdown",
      "source": [
        "https://github.com/shantanumokhale/EDA-NEW"
      ],
      "metadata": {
        "id": "h1o69JH3Eqqn"
      }
    },
    {
      "cell_type": "markdown",
      "source": [
        "# **Problem Statement**\n"
      ],
      "metadata": {
        "id": "yQaldy8SH6Dl"
      }
    },
    {
      "cell_type": "markdown",
      "source": [
        "\n",
        "\n",
        "Terrorism is a cause of global concern for civilians and government bodies alike. \\\n",
        "With rising number of terrorist attacks happening all over the world"
      ],
      "metadata": {
        "id": "DpeJGUA3kjGy"
      }
    },
    {
      "cell_type": "markdown",
      "source": [
        "#### **Define Your Business Objective?**"
      ],
      "metadata": {
        "id": "PH-0ReGfmX4f"
      }
    },
    {
      "cell_type": "markdown",
      "source": [
        "Global Terrorism Database Analysis was a quick project for understanding and implementing various descriptive statistics and exploratory data analysis techniques.\n",
        "\n",
        "To perform Exploratory Data Analysis on the Global Terrorism Database made available by START.org in order to uncover underlying patterns and pieces of information that would help us to gain better insight into the problem of terrorism.\n",
        "\n",
        "To study and analyse the different terrorism acts that have taken place in various parts of the world, at different times,\n",
        "problem rise by them are :\\\n",
        "i. The various causes behind terrorism acts.\\\n",
        "ii. different types of terrorism acts.\\\n",
        "iii. categories of terrorism acts.\\\n",
        "iv. distribution of terrorism acts.\\\n",
        "v. statistical conclusions.\n",
        "\n",
        "As a security/defense analyst, try to find out the hot zone of terrorism"
      ],
      "metadata": {
        "id": "PhDvGCAqmjP1"
      }
    },
    {
      "cell_type": "markdown",
      "source": [
        "# ***Let's Begin !***"
      ],
      "metadata": {
        "id": "O_i_v8NEhb9l"
      }
    },
    {
      "cell_type": "markdown",
      "source": [
        "## ***Know Your Data***"
      ],
      "metadata": {
        "id": "HhfV-JJviCcP"
      }
    },
    {
      "cell_type": "markdown",
      "source": [
        "\n",
        "### Import Libraries"
      ],
      "metadata": {
        "id": "Y3lxredqlCYt"
      }
    },
    {
      "cell_type": "code",
      "source": [
        "# Import Libraries\n",
        "import pandas as pd # data processing, CSV file \n",
        "import matplotlib.pyplot as plt # for visualition library and ploting\n",
        "import seaborn as sns # for colour pallets for making statistical graphics in Python\n",
        "import numpy as np  # for matematical and logical approch\n",
        "from IPython.display import clear_output\n",
        "%matplotlib inline\n",
        "import plotly"
      ],
      "metadata": {
        "id": "M8Vqi-pPk-HR"
      },
      "execution_count": null,
      "outputs": []
    },
    {
      "cell_type": "markdown",
      "source": [
        "### Dataset Loading"
      ],
      "metadata": {
        "id": "3RnN4peoiCZX"
      }
    },
    {
      "cell_type": "code",
      "source": [
        "# Importing data from drive\n",
        "from google.colab import drive\n",
        "drive.mount('/content/drive')"
      ],
      "metadata": {
        "id": "pU8Vlb86dBrf"
      },
      "execution_count": null,
      "outputs": []
    },
    {
      "cell_type": "code",
      "source": [
        "# Load Dataset\n",
        "terrorism_df = pd.read_csv(\"/content/drive/MyDrive/Colab Notebooks/Capstone Project/Capstone Project 1 Shantanu Mokhale | Global Terrorism Dataset/Global Terrorism Data.csv\", encoding = 'latin1')"
      ],
      "metadata": {
        "id": "4CkvbW_SlZ_R"
      },
      "execution_count": null,
      "outputs": []
    },
    {
      "cell_type": "markdown",
      "source": [
        "### Dataset First View"
      ],
      "metadata": {
        "id": "x71ZqKXriCWQ"
      }
    },
    {
      "cell_type": "code",
      "source": [
        "# Dataset First Look\n",
        "terrorism_df.head()"
      ],
      "metadata": {
        "id": "LWNFOSvLl09H"
      },
      "execution_count": null,
      "outputs": []
    },
    {
      "cell_type": "markdown",
      "source": [
        "### Dataset Rows & Columns count"
      ],
      "metadata": {
        "id": "7hBIi_osiCS2"
      }
    },
    {
      "cell_type": "code",
      "source": [
        "# Dataset Rows & Columns count\n",
        "terrorism_df.shape # 181691 row & 135 columns"
      ],
      "metadata": {
        "id": "Kllu7SJgmLij"
      },
      "execution_count": null,
      "outputs": []
    },
    {
      "cell_type": "markdown",
      "source": [
        "#### Sellect selective data and renameing it\n"
      ],
      "metadata": {
        "id": "35m5QtbWiB9F"
      }
    },
    {
      "cell_type": "code",
      "source": [
        "#sellecting selected data becouse wost of the information is not required and most of the block have NAN and blank space\n",
        "terrorism = terrorism_df[[\"iyear\", \"imonth\", \"iday\", \"country_txt\", \"region_txt\", \"provstate\", \"city\", \"latitude\", \"longitude\", \"location\", \"summary\", \"alternative_txt\", \n",
        "                       \"targtype1_txt\", \"gname\", \"motive\", \"weapsubtype1_txt\", \"nkill\", 'nwound', \"addnotes\", \"attacktype1_txt\"]] \n"
      ],
      "metadata": {
        "id": "1sLdpKYkmox0"
      },
      "execution_count": null,
      "outputs": []
    },
    {
      "cell_type": "code",
      "source": [
        "#give proper notation\\name by doing rename\n",
        "terrorism.rename(columns = {\"iyear\":\"Year\", \"imonth\":\"Month\", \"iday\":\"Day\", \"country_txt\":\"Country\", \"region_txt\":\"Region\", \n",
        "                              \"provstate\":\"Province/State\", \"city\":\"City\", \"latitude\":\"Latitude\", \"longitude\":\"Longitude\", \n",
        "                              \"location\":\"Location\", \"summary\":\"Summary\", \"alternative_txt\":\"Alternative type\",\"targtype1_txt\":\"Target Type\", \n",
        "                              \"gname\":\"Group Name\", \"motive\":\"Motive\", \"weapsubtype1_txt\":\"Weapon Type\",\"nkill\":\"Killed\", \n",
        "                              \"nwound\":\"Wounded\", \"addnotes\":\"Add Notes\", \"attacktype1_txt\":\"Attack type\"}, inplace=True) \n",
        "#use inplace to change data name permanently"
      ],
      "metadata": {
        "id": "QEIGgLYKpI4B"
      },
      "execution_count": null,
      "outputs": []
    },
    {
      "cell_type": "code",
      "source": [
        "terrorism.head() #head show onyly top 5 rows"
      ],
      "metadata": {
        "id": "cfD3-47Ivttt"
      },
      "execution_count": null,
      "outputs": []
    },
    {
      "cell_type": "markdown",
      "source": [
        "#### Missing Values/Null Values"
      ],
      "metadata": {
        "id": "PoPl-ycgm1ru"
      }
    },
    {
      "cell_type": "code",
      "source": [
        "# Missing Values/Null Values Count\n",
        "terrorism.isnull().sum() # Checking the null velues in data"
      ],
      "metadata": {
        "id": "GgHWkxvamxVg"
      },
      "execution_count": null,
      "outputs": []
    },
    {
      "cell_type": "code",
      "source": [
        "# Visualizing the missing values\n",
        "terrorism[\"Killed\"]=terrorism[\"Killed\"].fillna(0)\n",
        "#use fillna() function to replace NaN values in a pandas df\n",
        "terrorism[\"Wounded\"]=terrorism[\"Wounded\"].fillna(0)\n",
        "terrorism[\"Casualty\"]=(terrorism[\"Killed\"]+terrorism[\"Wounded\"]) "
      ],
      "metadata": {
        "id": "3q5wnI3om9sJ"
      },
      "execution_count": null,
      "outputs": []
    },
    {
      "cell_type": "code",
      "source": [
        "terrorism.describe()"
      ],
      "metadata": {
        "id": "_A3kZsXJwMqm"
      },
      "execution_count": null,
      "outputs": []
    },
    {
      "cell_type": "markdown",
      "source": [
        "### What did you know about your dataset?"
      ],
      "metadata": {
        "id": "H0kj-8xxnORC"
      }
    },
    {
      "cell_type": "markdown",
      "source": [
        "i. The Global Terrorism Database (GTD) documents more than 190,000 international and domestic terrorist attacks that occurred worldwide since 1970\\\n",
        "ii. Compared to most types of criminal violence, terrorism poses special data collection challenges. In response, there has been growing interest in open source terrorist event data bases. One of the major problems with these data bases in the past is that they have been limited to international events — those involving a national or group of nationals from one country attacking targets physically located in another country. Past research shows that domestic incidents greatly outnumber international incidents.\\\n",
        "iii. Here are 18,1691 records and 135 columns including date, time, location, number of hostages, killed, wounded, if there was a ransom, the outcome, if there was a suicide attack, claims, weapons used"
      ],
      "metadata": {
        "id": "gfoNAAC-nUe_"
      }
    },
    {
      "cell_type": "markdown",
      "source": [
        "#### Chart - 1 - Year wise attacks\n",
        "  i. Attacks year wise"
      ],
      "metadata": {
        "id": "0wOQAZs5pc--"
      }
    },
    {
      "cell_type": "code",
      "source": [
        "# Visualization code \n",
        "# This is for attacks year wise\n",
        "attacks = terrorism[\"Year\"].value_counts(dropna=False).sort_index().to_frame().reset_index().rename(columns={\"index\":\"Year\", \"Year\":\"Attacks\"}).set_index(\"Year\")\n",
        "\n",
        "attacks.head()"
      ],
      "metadata": {
        "id": "7v_ESjsspbW7"
      },
      "execution_count": null,
      "outputs": []
    },
    {
      "cell_type": "code",
      "source": [
        "attacks.plot(kind=\"bar\", color=\"cornflowerblue\", figsize=(15,6), fontsize=13)\n",
        "plt.title(\"Timeline of Attacks\", fontsize=15)\n",
        "plt.xlabel(\"Years\", fontsize=15)\n",
        "plt.ylabel(\"Number of attacks\", fontsize=15)\n",
        "plt.show()"
      ],
      "metadata": {
        "id": "V2LdpgEgwc2H"
      },
      "execution_count": null,
      "outputs": []
    },
    {
      "cell_type": "markdown",
      "source": [
        "ii. Casualties in each year"
      ],
      "metadata": {
        "id": "4fOlEMwny-CL"
      }
    },
    {
      "cell_type": "code",
      "source": [
        "# casualties year wise\n",
        "total_casualties_each_year = terrorism[[\"Year\", \"Casualty\"]].groupby(\"Year\").sum()\n",
        "total_casualties_each_year.head().T"
      ],
      "metadata": {
        "id": "AcudO_W0zNOH"
      },
      "execution_count": null,
      "outputs": []
    },
    {
      "cell_type": "code",
      "source": [
        "total_casualties_each_year.plot(kind=\"bar\", color=\"cornflowerblue\", figsize=(15,6), fontsize=13)\n",
        "plt.title(\"Year wise casualties\", fontsize=15)\n",
        "plt.xlabel(\"Years\", fontsize=15)\n",
        "plt.ylabel(\"Number of casualties\", fontsize=15)\n",
        "plt.show()"
      ],
      "metadata": {
        "id": "tc3JOaN5zQIH"
      },
      "execution_count": null,
      "outputs": []
    },
    {
      "cell_type": "markdown",
      "source": [
        "iii.Killed in each year"
      ],
      "metadata": {
        "id": "MCYaJPv3zT1w"
      }
    },
    {
      "cell_type": "code",
      "source": [
        "# killed year wise\n",
        "killed_each_year = terrorism[[\"Year\", \"Killed\"]].groupby(\"Year\").sum()\n",
        "killed_each_year.head()"
      ],
      "metadata": {
        "id": "g_z3BNTZzYih"
      },
      "execution_count": null,
      "outputs": []
    },
    {
      "cell_type": "markdown",
      "source": [
        "iv. Wounded in each reagion"
      ],
      "metadata": {
        "id": "VQdHw3g3zdbP"
      }
    },
    {
      "cell_type": "code",
      "source": [
        "# wounded year wise\n",
        "wounded_reagion_wise = terrorism[[\"Year\", \"Wounded\"]].groupby(\"Year\").sum()\n",
        "wounded_reagion_wise.head()"
      ],
      "metadata": {
        "id": "FZpHnP9Lzbeh"
      },
      "execution_count": null,
      "outputs": []
    },
    {
      "cell_type": "markdown",
      "source": [
        "YEAR WISE ATTACK GRAPH's"
      ],
      "metadata": {
        "id": "JuF10Lmyzkzk"
      }
    },
    {
      "cell_type": "code",
      "source": [
        "# Chart - 1 visualization code : plot bar graph\n",
        "\n",
        "fig=plt.figure() \n",
        "ax0=fig.add_subplot(2,1,1)\n",
        "ax1=fig.add_subplot(2,1,2)\n",
        "\n",
        "# for killed\n",
        "killed_each_year.plot(kind=\"bar\", color=\"cornflowerblue\", figsize=(15,15), ax=ax0)\n",
        "ax0.set_title(\"People Killed in each year\")\n",
        "ax0.set_xlabel(\"Years\")\n",
        "ax0.set_ylabel(\"Numeber of people Killed\")\n",
        "\n",
        "#Wounded\n",
        "wounded_reagion_wise.plot(kind=\"bar\", color=\"cornflowerblue\", figsize=(15,15), ax=ax1)\n",
        "ax1.set_title(\"People Wounded in each year\")\n",
        "ax1.set_xlabel(\"Years\")\n",
        "ax1.set_ylabel(\"Numeber of people Wounded\")\n",
        "\n",
        "plt.show()"
      ],
      "metadata": {
        "id": "hVBiC-Nazh-_"
      },
      "execution_count": null,
      "outputs": []
    },
    {
      "cell_type": "markdown",
      "source": [
        "##### 1. Why did you pick the specific chart?"
      ],
      "metadata": {
        "id": "K5QZ13OEpz2H"
      }
    },
    {
      "cell_type": "markdown",
      "source": [
        "Here I sellect year wise attack to get to know how many attacks happens in that perticular year and how a many people are killer, wounded and how many casualties are happen in that area"
      ],
      "metadata": {
        "id": "XESiWehPqBRc"
      }
    },
    {
      "cell_type": "markdown",
      "source": [
        "##### 2. What is/are the insight(s) found from the chart?"
      ],
      "metadata": {
        "id": "lQ7QKXXCp7Bj"
      }
    },
    {
      "cell_type": "markdown",
      "source": [
        "after sellecting perticular data i get to know on following sub type of it\\\n",
        "i. attacks\\\n",
        "a. most no. of attacks is 16903 in 2014\\\n",
        "b. least no. of attack is 471 in 1971\n",
        "\n",
        "\n",
        "ii. casualties.\\\n",
        "a. most no. of casualties is 85618 in 2014.\\\n",
        "b. least no. of casualties is 255 in 1971\n",
        "\n",
        "\n",
        "iii. killed\\\n",
        "a. most no. of people killed is 44490 in 2014\\\n",
        "b. least no. of people killed is 255 in 191\n",
        "\n",
        "\n",
        "iv. wounded\\\n",
        "a. most no. of people wounded is 44043 in 2015\\\n",
        "b. least no. of people wounded is 82 in 1971"
      ],
      "metadata": {
        "id": "C_j1G7yiqdRP"
      }
    },
    {
      "cell_type": "markdown",
      "source": [
        "##### 3. Will the gained insights help creating a positive business impact? \n",
        "Are there any insights that lead to negative growth? Justify with specific reason."
      ],
      "metadata": {
        "id": "448CDAPjqfQr"
      }
    },
    {
      "cell_type": "markdown",
      "source": [
        "after sellecting data, i get to know i which field we have to develop our privacy like, in most to the attack people killed are less then wounded, so we have to mose focus on hospital facitity on that perticular area"
      ],
      "metadata": {
        "id": "3cspy4FjqxJW"
      }
    },
    {
      "cell_type": "markdown",
      "source": [
        "#### Chart - 2 -  Region wise attacks"
      ],
      "metadata": {
        "id": "KSlN3yHqYklG"
      }
    },
    {
      "cell_type": "markdown",
      "source": [
        "i. attacks region wise"
      ],
      "metadata": {
        "id": "scRax2hIzzDq"
      }
    },
    {
      "cell_type": "code",
      "source": [
        "# attacks region wise\n",
        "region = pd.crosstab(terrorism.Year, terrorism.Region)\n",
        "                     \n",
        "region.head()"
      ],
      "metadata": {
        "id": "xuUC7XZpz5SL"
      },
      "execution_count": null,
      "outputs": []
    },
    {
      "cell_type": "code",
      "source": [
        "# lets plot graph for this, to get to know how many attacks are happen region wise\n",
        "region.plot(kind=\"area\", stacked=False, alpha=0.5, figsize=(20,10))\n",
        "plt.title(\"Region wise Attacks\", fontsize = 15)\n",
        "plt.xlabel(\"Years\", fontsize=15)\n",
        "plt.ylabel(\"Number of attacks\", fontsize=15)\n",
        "plt.show()"
      ],
      "metadata": {
        "id": "QAv9T_vdz7tz"
      },
      "execution_count": null,
      "outputs": []
    },
    {
      "cell_type": "markdown",
      "source": [
        "TOTAL ATTACKS IN EACH REGION"
      ],
      "metadata": {
        "id": "0GiR_D10z_fI"
      }
    },
    {
      "cell_type": "code",
      "source": [
        "total_region = region.transpose()\n",
        "total_region[\"Total\"]=total_region.sum(axis=1)\n",
        "region_area = total_region[\"Total\"].sort_values(ascending=False)\n",
        "region_area"
      ],
      "metadata": {
        "id": "BV0h5iRMz-M_"
      },
      "execution_count": null,
      "outputs": []
    },
    {
      "cell_type": "code",
      "source": [
        "region_area.plot(kind=\"bar\", figsize=(15,6))\n",
        "plt.title(\"Region wise Attacks\")\n",
        "plt.xlabel(\"Years\")\n",
        "plt.ylabel(\"Number of attacks\")\n",
        "plt.show()"
      ],
      "metadata": {
        "id": "vAOdJ7RD0C3p"
      },
      "execution_count": null,
      "outputs": []
    },
    {
      "cell_type": "markdown",
      "source": [
        "ii. Total casualties in each reagion"
      ],
      "metadata": {
        "id": "p6wlE3VNz7Qn"
      }
    },
    {
      "cell_type": "code",
      "source": [
        "region_casualties = terrorism[[\"Region\", \"Casualty\"]].groupby(\"Region\").sum().sort_values(by= \"Casualty\", ascending=False)\n",
        "\n",
        "region_casualties"
      ],
      "metadata": {
        "id": "pdBN8w9W0J0a"
      },
      "execution_count": null,
      "outputs": []
    },
    {
      "cell_type": "code",
      "source": [
        "region_casualties.plot(kind=\"bar\", color=\"cornflowerblue\", figsize=(15,6))\n",
        "plt.title(\"Region wise casualties\", fontsize=15)\n",
        "plt.xlabel(\"Region\", fontsize=15)\n",
        "plt.ylabel(\"Number of Casualties\", fontsize=15)\n",
        "plt.show()"
      ],
      "metadata": {
        "id": "Eb53w6my0NYY"
      },
      "execution_count": null,
      "outputs": []
    },
    {
      "cell_type": "markdown",
      "source": [
        "iii. killed in each reagion"
      ],
      "metadata": {
        "id": "QncRfqt7z3KZ"
      }
    },
    {
      "cell_type": "code",
      "source": [
        "region_killed = terrorism[[\"Region\", \"Killed\"]].groupby(\"Region\").sum().sort_values(by= \"Killed\", ascending=False)\n",
        "region_killed"
      ],
      "metadata": {
        "id": "CtyVWTCi0XPx"
      },
      "execution_count": null,
      "outputs": []
    },
    {
      "cell_type": "markdown",
      "source": [
        "iv. Wounded in each reagion"
      ],
      "metadata": {
        "id": "BgSqR9to0acM"
      }
    },
    {
      "cell_type": "code",
      "source": [
        "region_wounded = terrorism[[\"Region\", \"Wounded\"]].groupby(\"Region\").sum().sort_values(by= \"Wounded\", ascending=False)\n",
        "region_wounded"
      ],
      "metadata": {
        "id": "kPJ9mW-k0bMo"
      },
      "execution_count": null,
      "outputs": []
    },
    {
      "cell_type": "code",
      "source": [
        "# Chart - 2 visualization code\n",
        "\n",
        "fig of attacks region wise\n",
        "fig= plt.figure()\n",
        "ax0=fig.add_subplot(1,2,1)\n",
        "ax1=fig.add_subplot(1,2,2)\n",
        "\n",
        "# for killed\n",
        "region_killed.plot(kind=\"bar\", color=\"cornflowerblue\", figsize=(15,6), ax=ax0)\n",
        "ax0.set_title(\"People Killed in each Region\")\n",
        "ax0.set_xlabel(\"Region\")\n",
        "ax0.set_ylabel(\"Numeber of people Killed\")\n",
        "\n",
        "#Wounded\n",
        "region_wounded.plot(kind=\"bar\", color=\"cornflowerblue\", figsize=(15,6), ax=ax1)\n",
        "ax1.set_title(\"People Wounded in each Region\")\n",
        "ax1.set_xlabel(\"Region\")\n",
        "ax1.set_ylabel(\"Numeber of people Wounded\")\n",
        "\n",
        "plt.show()"
      ],
      "metadata": {
        "id": "R4YgtaqtYklH"
      },
      "execution_count": null,
      "outputs": []
    },
    {
      "cell_type": "markdown",
      "source": [
        "##### 1. Why did you pick the specific chart?"
      ],
      "metadata": {
        "id": "t6dVpIINYklI"
      }
    },
    {
      "cell_type": "markdown",
      "source": [
        "here i sellect region wise attack, becaose from this perticular data we get to know that in which area most of the terror attackas are happens"
      ],
      "metadata": {
        "id": "5aaW0BYyYklI"
      }
    },
    {
      "cell_type": "markdown",
      "source": [
        "##### 2. What is/are the insight(s) found from the chart?"
      ],
      "metadata": {
        "id": "ijmpgYnKYklI"
      }
    },
    {
      "cell_type": "markdown",
      "source": [
        "from this specific data i get to know following information\\\n",
        "\n",
        "i. attacks\\\n",
        "a. most no. of attacks 50474 in Middle-East & North-Africa\\\n",
        "b. least no. of attack 282 in Australasia & Oceania\n",
        "\n",
        "ii. casualties\\\n",
        "a. most no. of casualties in 351950 in Middle-East & North-Africa\\\n",
        "b. least no. of casualties 410 in Australasia & Oceania\n",
        "\n",
        "iii. killed\\\n",
        "a. most no. of people killed 137642 in Middle-East & North-Africa\\\n",
        "b. least no. of people killed 150 in Australasia & Oceania\n",
        "\n",
        "iv. wounded\\\n",
        "a. most no. of people wounded 214308 in Middle-East & North-Africa\\\n",
        "b. least no. of people wounded 260 in Australasia & Oceania"
      ],
      "metadata": {
        "id": "PSx9atu2YklI"
      }
    },
    {
      "cell_type": "markdown",
      "source": [
        "##### 3. Will the gained insights help  creating a positive  impact? \n",
        "Are there any insights that lead to negative growth? Justify with specific reason."
      ],
      "metadata": {
        "id": "-JiQyfWJYklI"
      }
    },
    {
      "cell_type": "markdown",
      "source": [
        "after sellecting data, i get to know in which area we have to develop our more security like, in which area the  terror attacks on people are less then than the orher, so we have to more focus on national security on that perticular area"
      ],
      "metadata": {
        "id": "BcBbebzrYklV"
      }
    },
    {
      "cell_type": "markdown",
      "source": [
        "Chart - 3 - country wise attacks top 10"
      ],
      "metadata": {
        "id": "EM7whBJCYoAo"
      }
    },
    {
      "cell_type": "markdown",
      "source": [
        "i. Country wise attacks"
      ],
      "metadata": {
        "id": "duMXDSYS0rkl"
      }
    },
    {
      "cell_type": "code",
      "source": [
        "country_wise = terrorism[\"Country\"].value_counts().head(10)\n",
        "\n",
        "country_wise"
      ],
      "metadata": {
        "id": "gTkLTJgX0qaU"
      },
      "execution_count": null,
      "outputs": []
    },
    {
      "cell_type": "code",
      "source": [
        "country_wise.plot(kind=\"bar\", color=\"cornflowerblue\", figsize=(15,6))\n",
        "plt.title(\"Country wise attacks\", fontsize=15)\n",
        "plt.xlabel(\"Countries\", fontsize=15)\n",
        "plt.ylabel(\"Number of attacks\", fontsize=15)\n",
        "plt.show()"
      ],
      "metadata": {
        "id": "L2VovM1u0xyb"
      },
      "execution_count": null,
      "outputs": []
    },
    {
      "cell_type": "markdown",
      "source": [
        "ii. Total casuslties in each country"
      ],
      "metadata": {
        "id": "KcO3DSqQ0qM_"
      }
    },
    {
      "cell_type": "code",
      "source": [
        "casualties_country_wise = terrorism[[\"Country\", \"Casualty\"]].groupby(\"Country\").sum().sort_values(by=\"Casualty\", ascending=False)\n",
        "\n",
        "casualties_country_wise.head(10)"
      ],
      "metadata": {
        "id": "ErXdSW5h005u"
      },
      "execution_count": null,
      "outputs": []
    },
    {
      "cell_type": "code",
      "source": [
        "casualties_country_wise[:10].plot(kind=\"bar\", color=\"cornflowerblue\", figsize=(15,6))\n",
        "plt.title(\"Country wise casualties\", fontsize=15)\n",
        "plt.xlabel(\"Countries\", fontsize=15)\n",
        "plt.ylabel(\"Number of Casualties\", fontsize=15)\n",
        "plt.show()"
      ],
      "metadata": {
        "id": "_1meod3h03_R"
      },
      "execution_count": null,
      "outputs": []
    },
    {
      "cell_type": "markdown",
      "source": [
        "iii. kill in each region"
      ],
      "metadata": {
        "id": "zQqOtr0c0qAx"
      }
    },
    {
      "cell_type": "code",
      "source": [
        "kill_country_wise = terrorism[[\"Country\", \"Killed\"]].groupby(\"Country\").sum().sort_values(by=\"Killed\", ascending=False)\n",
        "\n",
        "kill_country_wise.head(10)"
      ],
      "metadata": {
        "id": "DsH6PK4o062Q"
      },
      "execution_count": null,
      "outputs": []
    },
    {
      "cell_type": "markdown",
      "source": [
        "iv.Wound in each country"
      ],
      "metadata": {
        "id": "GM9cI6Vr0pks"
      }
    },
    {
      "cell_type": "code",
      "source": [
        "wound_country_wise = terrorism[[\"Country\", \"Wounded\"]].groupby(\"Country\").sum().sort_values(by=\"Wounded\", ascending=False)\n",
        "\n",
        "wound_country_wise.head(10)"
      ],
      "metadata": {
        "id": "bTjGvvgn0_UV"
      },
      "execution_count": null,
      "outputs": []
    },
    {
      "cell_type": "code",
      "source": [
        "# Chart - 3 visualization code\n",
        "\n",
        "fig= plt.figure()\n",
        "ax0=fig.add_subplot(1,2,1)\n",
        "ax1=fig.add_subplot(1,2,2)\n",
        "\n",
        "# for killed\n",
        "kill_country_wise[:10].plot(kind=\"bar\", color=\"cornflowerblue\", figsize=(15,6), ax=ax0)\n",
        "ax0.set_title(\"People Killed in each country\")\n",
        "ax0.set_xlabel(\"Countries\")\n",
        "ax0.set_ylabel(\"Numeber of people Killed\")\n",
        "\n",
        "#Wounded\n",
        "wound_country_wise[:10].plot(kind=\"bar\", color=\"cornflowerblue\", figsize=(15,6), ax=ax1)\n",
        "ax1.set_title(\"People Wounded in each country\")\n",
        "ax1.set_xlabel(\"Countries\")\n",
        "ax1.set_ylabel(\"Numeber of people Wounded\")\n",
        "\n",
        "plt.show()"
      ],
      "metadata": {
        "id": "t6GMdE67YoAp"
      },
      "execution_count": null,
      "outputs": []
    },
    {
      "cell_type": "markdown",
      "source": [
        "##### 1. Why did you pick the specific chart?"
      ],
      "metadata": {
        "id": "fge-S5ZAYoAp"
      }
    },
    {
      "cell_type": "markdown",
      "source": [
        "Here i sellect country wise attack, by this i get to know that which country is most affected by terrorism and which country is less affacted by terrorism."
      ],
      "metadata": {
        "id": "5dBItgRVYoAp"
      }
    },
    {
      "cell_type": "markdown",
      "source": [
        "##### 2. What is/are the insight(s) found from the chart?"
      ],
      "metadata": {
        "id": "85gYPyotYoAp"
      }
    },
    {
      "cell_type": "markdown",
      "source": [
        "from this selective information i get to  know the top 10 country which are highly affected by the terrrorism\n",
        "\n",
        "i. attacks\\\n",
        "a. most no. of attacks is 24636 in Irap\\\n",
        "b. least no. of attack is 4292 in Turkey\n",
        "\n",
        "ii. casualties\\\n",
        "a. most no. of casualties is 213279 in Irap\\\n",
        "b. least no. of casualties is 222926 in Philippines\n",
        "\n",
        "iii. killed\\\n",
        "a. most no. of people killed is 78589 in Irap\\\n",
        "b. least no. of people killed is 12053 in El-salvador\n",
        "\n",
        "iv. wounded\\\n",
        "a. most no. of people wounded is 134690 in Irap\\\n",
        "b. least no. of people wounded is 10328 in Colombia"
      ],
      "metadata": {
        "id": "4jstXR6OYoAp"
      }
    },
    {
      "cell_type": "markdown",
      "source": [
        "##### 3. Will the gained insights help creating a positive business impact? \n",
        "Are there any insights that lead to negative growth? Justify with specific reason."
      ],
      "metadata": {
        "id": "RoGjAbkUYoAp"
      }
    },
    {
      "cell_type": "markdown",
      "source": [
        "in country wise attack we get to know i which country most terrorism is highly affected, so by this gove or people who lovw there counter terror attacks."
      ],
      "metadata": {
        "id": "zfJ8IqMcYoAp"
      }
    },
    {
      "cell_type": "markdown",
      "source": [
        "#### Chart - 4 - CITY WISE ATTACK\n",
        "  i. attacks in city"
      ],
      "metadata": {
        "id": "4Of9eVA-YrdM"
      }
    },
    {
      "cell_type": "code",
      "source": [
        "city = terrorism[\"City\"].value_counts()[1:11]\n",
        "\n",
        "city"
      ],
      "metadata": {
        "id": "EtjAYcNq1ME7"
      },
      "execution_count": null,
      "outputs": []
    },
    {
      "cell_type": "code",
      "source": [
        "city.plot(kind=\"bar\", color=\"cornflowerblue\", figsize=(15, 6))\n",
        "plt.title(\"City wise attacks\", fontsize=15)\n",
        "plt.xlabel(\"Cities\", fontsize=15)\n",
        "plt.ylabel(\"Number of attacks\", fontsize=15)\n",
        "plt.show()"
      ],
      "metadata": {
        "id": "1YrtHClU1Mym"
      },
      "execution_count": null,
      "outputs": []
    },
    {
      "cell_type": "markdown",
      "source": [
        "ii. Total casualties in each city"
      ],
      "metadata": {
        "id": "3Y9heRNe1P1U"
      }
    },
    {
      "cell_type": "code",
      "source": [
        "city_casualties = terrorism[[\"City\", \"Casualty\"]].groupby(\"City\").sum().sort_values(by=\"Casualty\", ascending=False).drop(\"Unknown\")\n",
        "\n",
        "city_casualties.head(10)"
      ],
      "metadata": {
        "id": "Lzg1wjoL1SIM"
      },
      "execution_count": null,
      "outputs": []
    },
    {
      "cell_type": "code",
      "source": [
        "city_casualties[:10].plot(kind=\"bar\", color=\"cornflowerblue\", figsize=(15, 6))\n",
        "plt.title(\"City wise casualties\", fontsize=15)\n",
        "plt.xlabel(\"Cities\", fontsize=15)\n",
        "plt.ylabel(\"Number of casualties\", fontsize=15)\n",
        "plt.show()"
      ],
      "metadata": {
        "id": "FHOPy70T1URb"
      },
      "execution_count": null,
      "outputs": []
    },
    {
      "cell_type": "markdown",
      "source": [
        "iii. Killed in each city"
      ],
      "metadata": {
        "id": "1uRffjj81War"
      }
    },
    {
      "cell_type": "code",
      "source": [
        "killed_city = terrorism[[\"City\", \"Killed\"]].groupby(\"City\").sum().sort_values(by=\"Killed\", ascending=False).drop(\"Unknown\")\n",
        "\n",
        "killed_city.head()"
      ],
      "metadata": {
        "id": "lRRb9Ln01XLz"
      },
      "execution_count": null,
      "outputs": []
    },
    {
      "cell_type": "markdown",
      "source": [
        "iv. Wounded in each city"
      ],
      "metadata": {
        "id": "LpSMOTQx1b7z"
      }
    },
    {
      "cell_type": "code",
      "source": [
        "wounded_city = terrorism[[\"City\", \"Wounded\"]].groupby(\"City\").sum().sort_values(by=\"Wounded\", ascending=False).drop(\"Unknown\") # drop the NaN values\n",
        "\n",
        "wounded_city.head()"
      ],
      "metadata": {
        "id": "kM-E5vup1c0J"
      },
      "execution_count": null,
      "outputs": []
    },
    {
      "cell_type": "code",
      "source": [
        "# Chart - 4 visualization code\n",
        "\n",
        "fig= plt.figure()\n",
        "ax0=fig.add_subplot(1,2,1)\n",
        "ax1=fig.add_subplot(1,2,2)\n",
        "\n",
        "# for killed\n",
        "killed_city[:10].plot(kind=\"bar\", color=\"cornflowerblue\", figsize=(15,6), ax=ax0)\n",
        "ax0.set_title(\"People Killed in each city\")\n",
        "ax0.set_xlabel(\"Cities\")\n",
        "ax0.set_ylabel(\"Numeber of people Killed\")\n",
        "\n",
        "#Wounded\n",
        "wounded_city[:10].plot(kind=\"bar\", color=\"cornflowerblue\", figsize=(15,6), ax=ax1)\n",
        "ax1.set_title(\"People Wounded in each city\")\n",
        "ax1.set_xlabel(\"Cities\")\n",
        "ax1.set_ylabel(\"Numeber of people Wounded\")\n",
        "\n",
        "plt.show()"
      ],
      "metadata": {
        "id": "irlUoxc8YrdO"
      },
      "execution_count": null,
      "outputs": []
    },
    {
      "cell_type": "markdown",
      "source": [
        "##### 1. Why did you pick the specific chart?"
      ],
      "metadata": {
        "id": "iky9q4vBYrdO"
      }
    },
    {
      "cell_type": "markdown",
      "source": [
        "Here I sellect city wise attacks, becouse by this a orogonization plan there security accourding with there condition.\n",
        "\n",
        "By this othere country provide help to them by giving ammunition to counter terror, or people plan there journy according with it"
      ],
      "metadata": {
        "id": "aJRCwT6DYrdO"
      }
    },
    {
      "cell_type": "markdown",
      "source": [
        "##### 2. What is/are the insight(s) found from the chart?"
      ],
      "metadata": {
        "id": "F6T5p64dYrdO"
      }
    },
    {
      "cell_type": "markdown",
      "source": [
        "i. attacks\\\n",
        "a. most no. of attacks is 7589 in Baghdad\\\n",
        "b. least no. of attack is 1019 in Athens\n",
        "\n",
        "ii. casualties\\\n",
        "a. most no. of casualties is 77876 in Baghdad\\\n",
        "b. least no. of casualties is 5748 in Aleppo\n",
        "\n",
        "iii. killed\\\n",
        "a. most no. of people killed is 21151 in Baghdad\\\n",
        "b. least no. of people killed is 2125 in Aleppo\n",
        "\n",
        "iv. wounded\\\n",
        "a. most no. of people wounded is 56725 in Baghdad\\\n",
        "b. least no. of people wounded is 4955 in Mogadishu"
      ],
      "metadata": {
        "id": "Xx8WAJvtYrdO"
      }
    },
    {
      "cell_type": "markdown",
      "source": [
        "##### 3. Will the gained insights help creating a positive business impact? \n",
        "Are there any insights that lead to negative growth? Justify with specific reason."
      ],
      "metadata": {
        "id": "y-Ehk30pYrdP"
      }
    },
    {
      "cell_type": "markdown",
      "source": [
        "by sellecting city wise data, a perticular country type of  country provide them more security, make people awaer likw what to do when terror attacks happens"
      ],
      "metadata": {
        "id": "jLNxxz7MYrdP"
      }
    },
    {
      "cell_type": "markdown",
      "source": [
        "#### Chart - 5 - Terrorist group wise attacks\\\n",
        "    i. number of attacks by each group"
      ],
      "metadata": {
        "id": "bamQiAODYuh1"
      }
    },
    {
      "cell_type": "code",
      "source": [
        "group = terrorism[\"Group Name\"].value_counts()[1:10]\n",
        "\n",
        "group"
      ],
      "metadata": {
        "id": "k-OBs1Zr1rn7"
      },
      "execution_count": null,
      "outputs": []
    },
    {
      "cell_type": "code",
      "source": [
        "group.plot(kind=\"bar\", color=\"cornflowerblue\", figsize=(15, 6))\n",
        "plt.title(\"Group wise attacks\", fontsize=15)\n",
        "plt.xlabel(\"terrorist group\", fontsize=15)\n",
        "plt.ylabel(\"Number of attacks\", fontsize=15)\n",
        "plt.show()"
      ],
      "metadata": {
        "id": "Aln6NFyR1uoQ"
      },
      "execution_count": null,
      "outputs": []
    },
    {
      "cell_type": "markdown",
      "source": [
        "ii. Total casualties by each group"
      ],
      "metadata": {
        "id": "dreK5FLk1w40"
      }
    },
    {
      "cell_type": "code",
      "source": [
        "group_casualties = terrorism[[\"Group Name\", \"Casualty\"]].groupby(\"Group Name\").sum().sort_values(by=\"Casualty\", ascending=False).drop(\"Unknown\")\n",
        "\n",
        "group_casualties.head()"
      ],
      "metadata": {
        "id": "ssUqawRQ1yuO"
      },
      "execution_count": null,
      "outputs": []
    },
    {
      "cell_type": "code",
      "source": [
        "group_casualties.head(10).plot(kind=\"bar\", color=\"cornflowerblue\", figsize=(15, 6))\n",
        "plt.title(\"Casualties by each group\", fontsize=15) # location legend\n",
        "plt.xlabel(\"Terrorist group\", fontsize=15)\n",
        "plt.ylabel(\"Number of Casualties\", fontsize=15)\n",
        "plt.show()"
      ],
      "metadata": {
        "id": "m9hxYWin10uA"
      },
      "execution_count": null,
      "outputs": []
    },
    {
      "cell_type": "markdown",
      "source": [
        "iii. Killed by each group"
      ],
      "metadata": {
        "id": "Y9ggtCNH13-u"
      }
    },
    {
      "cell_type": "code",
      "source": [
        "killed_by_group = terrorism[[\"Group Name\", \"Killed\"]].groupby(\"Group Name\").sum().sort_values(by=\"Killed\", ascending=False).drop(\"Unknown\")\n",
        "\n",
        "killed_by_group.head()"
      ],
      "metadata": {
        "id": "Y8WwRDyZ1413"
      },
      "execution_count": null,
      "outputs": []
    },
    {
      "cell_type": "markdown",
      "source": [
        "iv wounded by each group"
      ],
      "metadata": {
        "id": "IgK6Xvwr1755"
      }
    },
    {
      "cell_type": "code",
      "source": [
        "wounded_by_group = terrorism[[\"Group Name\", \"Wounded\"]].groupby(\"Group Name\").sum().sort_values(by=\"Wounded\", ascending=False).drop(\"Unknown\")\n",
        "\n",
        "wounded_by_group.head()"
      ],
      "metadata": {
        "id": "zD2zSMyB18sT"
      },
      "execution_count": null,
      "outputs": []
    },
    {
      "cell_type": "code",
      "source": [
        "# Chart - 5 visualization code\n",
        "\n",
        "fig= plt.figure()\n",
        "ax0=fig.add_subplot(1,2,1)\n",
        "ax1=fig.add_subplot(1,2,2)\n",
        "\n",
        "# for killed\n",
        "killed_by_group[:10].plot(kind=\"bar\", color=\"cornflowerblue\", figsize=(15,6), ax=ax0)\n",
        "ax0.set_title(\"People Killed in each group\")\n",
        "ax0.set_xlabel(\"Cities\")\n",
        "ax0.set_ylabel(\"Numeber of people Killed\")\n",
        "\n",
        "#Wounded\n",
        "wounded_by_group[:10].plot(kind=\"bar\", color=\"cornflowerblue\", figsize=(15,6), ax=ax1)\n",
        "ax1.set_title(\"People Wounded in each group\")\n",
        "ax1.set_xlabel(\"Cities\")\n",
        "ax1.set_ylabel(\"Numeber of people Wounded\")\n",
        "\n",
        "plt.show()"
      ],
      "metadata": {
        "id": "TIJwrbroYuh3"
      },
      "execution_count": null,
      "outputs": []
    },
    {
      "cell_type": "markdown",
      "source": [
        "##### 1. Why did you pick the specific chart?"
      ],
      "metadata": {
        "id": "QHF8YVU7Yuh3"
      }
    },
    {
      "cell_type": "markdown",
      "source": [
        "group wise attacks : by sellecting we get to know whis group is more actinve or we can say which group is going agains the social norms and harming people by doing terrorf attacks"
      ],
      "metadata": {
        "id": "dcxuIMRPYuh3"
      }
    },
    {
      "cell_type": "markdown",
      "source": [
        "##### 2. What is/are the insight(s) found from the chart?"
      ],
      "metadata": {
        "id": "GwzvFGzlYuh3"
      }
    },
    {
      "cell_type": "markdown",
      "source": [
        "i. attacks\\\n",
        "a. most no. of attacks 7476 by Talban\\\n",
        "b. least no. of attack 2418 by Boko Haram\n",
        "\n",
        "ii. casualties\\\n",
        "a. most no. of casualties in 69595 by Islamic State of Iraq and the levant (ISIL)\\\n",
        "b. least no. of casualties 12130 by Farabundo Marti National Liberaion Front (FMLM)\n",
        "\n",
        "iii. killed\\\n",
        "a. most no. of people killed 38923 by Islamic State of Iraq and the levant (ISIL)\\\n",
        "b. least no. of people killed 5661 by Revolution Armed Force of Colombia(FARC)\n",
        "\n",
        "iv. wounded\\\n",
        "a. most no. of people wounded 30672 by Islamic State of Iraq and the levant (ISIL)\\\n",
        "b. least no. of people wounded 4908 by Kurdistan workers party(PKK)"
      ],
      "metadata": {
        "id": "uyqkiB8YYuh3"
      }
    },
    {
      "cell_type": "markdown",
      "source": [
        "##### 3. Will the gained insights help creating a positive business impact? \n",
        "Are there any insights that lead to negative growth? Justify with specific reason."
      ],
      "metadata": {
        "id": "qYpmQ266Yuh3"
      }
    },
    {
      "cell_type": "markdown",
      "source": [
        "sellecting group wise attacks, so we couter that group, plan a plan how to eliminate them and peace in socity."
      ],
      "metadata": {
        "id": "_WtzZ_hCYuh4"
      }
    },
    {
      "cell_type": "markdown",
      "source": [
        "#### Chart - 6 - Attack Type Wise Attack\n",
        "    i. attack by type\n"
      ],
      "metadata": {
        "id": "OH-pJp9IphqM"
      }
    },
    {
      "cell_type": "code",
      "source": [
        "attack_type = terrorism[\"Attack type\"].value_counts()\n",
        "\n",
        "attack_type"
      ],
      "metadata": {
        "id": "a6kyP8ui2KLa"
      },
      "execution_count": null,
      "outputs": []
    },
    {
      "cell_type": "code",
      "source": [
        "attack_type.plot(kind=\"bar\", color=\"cornflowerblue\", figsize=(15, 6))\n",
        "plt.title(\"Type of attacks\", fontsize=15)\n",
        "plt.xlabel(\"Attack type\", fontsize=15)\n",
        "plt.ylabel(\"Number of Attacks\", fontsize=15)\n",
        "plt.show()"
      ],
      "metadata": {
        "id": "dkasjout2MBI"
      },
      "execution_count": null,
      "outputs": []
    },
    {
      "cell_type": "markdown",
      "source": [
        "ii. Tatal casualties by attack type"
      ],
      "metadata": {
        "id": "I5BgkIWs2IL4"
      }
    },
    {
      "cell_type": "code",
      "source": [
        "attack_type_casualty = terrorism[[\"Attack type\", \"Casualty\"]].groupby(\"Attack type\").sum().sort_values(by=\"Casualty\", ascending=False).drop(\"Unknown\")\n",
        "\n",
        "attack_type_casualty"
      ],
      "metadata": {
        "id": "WzBTbmM82PLe"
      },
      "execution_count": null,
      "outputs": []
    },
    {
      "cell_type": "code",
      "source": [
        "attack_type_casualty.plot(kind=\"bar\", color=\"cornflowerblue\", figsize=(15, 6))\n",
        "plt.title(\"Casualty in each attack\", fontsize=15)\n",
        "plt.xlabel(\"Attack type\", fontsize=15)\n",
        "plt.ylabel(\"Number of Casualties\", fontsize=15)\n",
        "plt.show()"
      ],
      "metadata": {
        "id": "SXlVkxt32Rdh"
      },
      "execution_count": null,
      "outputs": []
    },
    {
      "cell_type": "markdown",
      "source": [
        "iii. Killed by each attack type"
      ],
      "metadata": {
        "id": "6F5NXMr52ICW"
      }
    },
    {
      "cell_type": "code",
      "source": [
        "killed_by_attack_type = terrorism[[\"Attack type\", \"Killed\"]].groupby(\"Attack type\").sum().sort_values(by=\"Killed\", ascending=False)\n",
        "\n",
        "killed_by_attack_type"
      ],
      "metadata": {
        "id": "EeiOW0vH2UfU"
      },
      "execution_count": null,
      "outputs": []
    },
    {
      "cell_type": "markdown",
      "source": [
        "iv. Wounded by attack type"
      ],
      "metadata": {
        "id": "6nTRyc3e2Hyg"
      }
    },
    {
      "cell_type": "code",
      "source": [
        "wounded_by_attack_type = terrorism[[\"Attack type\", \"Wounded\"]].groupby(\"Attack type\").sum().sort_values(by=\"Wounded\", ascending=False)\n",
        "\n",
        "wounded_by_attack_type"
      ],
      "metadata": {
        "id": "7DKi3r062Yfm"
      },
      "execution_count": null,
      "outputs": []
    },
    {
      "cell_type": "code",
      "source": [
        "# Chart - 6 visualization code\n",
        "\n",
        "fig= plt.figure()\n",
        "ax0=fig.add_subplot(1,2,1)\n",
        "ax1=fig.add_subplot(1,2,2)\n",
        "\n",
        "# for killed\n",
        "killed_by_attack_type.plot(kind=\"bar\", color=\"cornflowerblue\", figsize=(15,6), ax=ax0)\n",
        "ax0.set_title(\"People Killed in each attack type\")\n",
        "ax0.set_xlabel(\"Attack type\")\n",
        "ax0.set_ylabel(\"Numeber of people Killed\")\n",
        "\n",
        "#Wounded\n",
        "wounded_by_attack_type.plot(kind=\"bar\", color=\"cornflowerblue\", figsize=(15,6), ax=ax1)\n",
        "ax1.set_title(\"People Wounded in each Attack type\")\n",
        "ax1.set_xlabel(\"Attack type\")\n",
        "ax1.set_ylabel(\"Numeber of people Wounded\")\n",
        "\n",
        "plt.show()"
      ],
      "metadata": {
        "id": "kuRf4wtuphqN"
      },
      "execution_count": null,
      "outputs": []
    },
    {
      "cell_type": "markdown",
      "source": [
        "##### 1. Why did you pick the specific chart?"
      ],
      "metadata": {
        "id": "bbFf2-_FphqN"
      }
    },
    {
      "cell_type": "markdown",
      "source": [
        "By sellecting data by type wise of attacks we get to know which path is ause by terror people like kidnapping, bombing, killing  etc."
      ],
      "metadata": {
        "id": "loh7H2nzphqN"
      }
    },
    {
      "cell_type": "markdown",
      "source": [
        "##### 2. What is/are the insight(s) found from the chart?"
      ],
      "metadata": {
        "id": "_ouA3fa0phqN"
      }
    },
    {
      "cell_type": "markdown",
      "source": [
        "i. attacks\\\n",
        "a. most no. of attacks is 88255 by Bombing Explosion\\\n",
        "b. least no. of attack is 659 by Hijacking\n",
        "\n",
        "ii. casualties\\\n",
        "a. most no. of casualties is 530007 By Bombing Explosion\\\n",
        "b. least no. of casualties is 407 in Facility\\infrastructure attack\n",
        "\n",
        "iii. killed\\\n",
        "a. most no. of people killed is 160297 by Armed Asasulting\\\n",
        "b. least no. of people killed is 880 by Unarmed Assult\n",
        "\n",
        "iv. wounded\\\n",
        "a. most no. of people wounded is 372686 by Bombing Explosion\\\n",
        "b. least no. of people wounded is 3765 by Facility\\infrastructure attack"
      ],
      "metadata": {
        "id": "VECbqPI7phqN"
      }
    },
    {
      "cell_type": "markdown",
      "source": [
        "##### 3. Will the gained insights help creating a positive business impact? \n",
        "Are there any insights that lead to negative growth? Justify with specific reason."
      ],
      "metadata": {
        "id": "Seke61FWphqN"
      }
    },
    {
      "cell_type": "markdown",
      "source": [
        "to selllect type wisse data, we can make more innovating things like terror useing LED bombing, so to counter from this we can make surface sensing maching or xray machine\n",
        "or\n",
        "kidnapping - by this we put camera on every street or we can use gps if a kidnap person keepet it with him\n",
        "\n",
        "like this type of innnovative thing we can make it"
      ],
      "metadata": {
        "id": "DW4_bGpfphqN"
      }
    },
    {
      "cell_type": "markdown",
      "source": [
        "#### Chart - 7 - Type target wise attack\n",
        "    i. Attack over each target type"
      ],
      "metadata": {
        "id": "PIIx-8_IphqN"
      }
    },
    {
      "cell_type": "code",
      "source": [
        "target_attack = terrorism[\"Target Type\"].value_counts()\n",
        "\n",
        "target_attack "
      ],
      "metadata": {
        "id": "Mj4X4wHd2kno"
      },
      "execution_count": null,
      "outputs": []
    },
    {
      "cell_type": "code",
      "source": [
        "target_attack.plot(kind=\"bar\", color=\"cornflowerblue\", figsize=(15, 6))\n",
        "plt.title(\"Type of target\", fontsize=15)\n",
        "plt.xlabel(\"Target type\", fontsize=15)\n",
        "plt.ylabel(\"Number of attacks\", fontsize=15)\n",
        "plt.show()"
      ],
      "metadata": {
        "id": "sdOGTw372l5B"
      },
      "execution_count": null,
      "outputs": []
    },
    {
      "cell_type": "markdown",
      "source": [
        "ii. Casualty over each target type"
      ],
      "metadata": {
        "id": "pWpkxmJe2ngy"
      }
    },
    {
      "cell_type": "code",
      "source": [
        "target_attack_casualty = terrorism[[\"Target Type\", \"Casualty\"]].groupby(\"Target Type\").sum().sort_values(by=\"Casualty\", ascending=False)\n",
        "\n",
        "target_attack_casualty"
      ],
      "metadata": {
        "id": "i1-EizpR2oxe"
      },
      "execution_count": null,
      "outputs": []
    },
    {
      "cell_type": "code",
      "source": [
        "target_attack_casualty.plot(kind=\"bar\", color=\"cornflowerblue\", figsize=(15, 6))\n",
        "plt.title(\"Casualty in target attack\", fontsize=15)\n",
        "plt.xlabel(\"Target type\", fontsize=15)\n",
        "plt.ylabel(\"Number of casualties\", fontsize=15)\n",
        "plt.show()"
      ],
      "metadata": {
        "id": "ymTj3Qvv2qmp"
      },
      "execution_count": null,
      "outputs": []
    },
    {
      "cell_type": "markdown",
      "source": [
        "iii. killed over each target type"
      ],
      "metadata": {
        "id": "KVbMPeA32sXZ"
      }
    },
    {
      "cell_type": "code",
      "source": [
        "target_attack_killed = terrorism[[\"Target Type\", \"Killed\"]].groupby(\"Target Type\").sum().sort_values(by=\"Killed\", ascending=False)\n",
        "\n",
        "target_attack_killed"
      ],
      "metadata": {
        "id": "pNIcjmfX2sGN"
      },
      "execution_count": null,
      "outputs": []
    },
    {
      "cell_type": "markdown",
      "source": [
        "iv. Wounded over each target type"
      ],
      "metadata": {
        "id": "TKd283Po2vpe"
      }
    },
    {
      "cell_type": "code",
      "source": [
        "target_attack_wounded = terrorism[[\"Target Type\", \"Wounded\"]].groupby(\"Target Type\").sum().sort_values(by=\"Wounded\", ascending=False)\n",
        "\n",
        "target_attack_wounded"
      ],
      "metadata": {
        "id": "SlId_uFd2wYe"
      },
      "execution_count": null,
      "outputs": []
    },
    {
      "cell_type": "code",
      "source": [
        "# Chart - 7 visualization code\n",
        "\n",
        "fig= plt.figure()\n",
        "ax0=fig.add_subplot(1,2,1)\n",
        "ax1=fig.add_subplot(1,2,2)\n",
        "\n",
        "# for killed\n",
        "target_attack_killed.plot(kind=\"bar\", color=\"cornflowerblue\", figsize=(15,6), ax=ax0)\n",
        "ax0.set_title(\"People Killed in each target attack\")\n",
        "ax0.set_xlabel(\"Target type\")\n",
        "ax0.set_ylabel(\"Numeber of people Killed\")\n",
        "\n",
        "#Wounded\n",
        "target_attack_casualty.plot(kind=\"bar\", color=\"cornflowerblue\", figsize=(15,6), ax=ax1)\n",
        "ax1.set_title(\"People Wounded in each Trget attack\")\n",
        "ax1.set_xlabel(\"Target type\")\n",
        "ax1.set_ylabel(\"Numeber of people Wounded\")\n",
        "\n",
        "plt.show()"
      ],
      "metadata": {
        "id": "lqAIGUfyphqO"
      },
      "execution_count": null,
      "outputs": []
    },
    {
      "cell_type": "markdown",
      "source": [
        "##### 1. Why did you pick the specific chart?"
      ],
      "metadata": {
        "id": "t27r6nlMphqO"
      }
    },
    {
      "cell_type": "markdown",
      "source": [
        "by this we get to know which thing is most distructed by them"
      ],
      "metadata": {
        "id": "iv6ro40sphqO"
      }
    },
    {
      "cell_type": "markdown",
      "source": [
        "##### 2. What is/are the insight(s) found from the chart?"
      ],
      "metadata": {
        "id": "r2jJGEOYphqO"
      }
    },
    {
      "cell_type": "markdown",
      "source": [
        "i. attacks\\\n",
        "a. most no. of attacks 43511 over Private citizen & property\\\n",
        "b. least no. of attack is 263 over Abortion Related\n",
        "\n",
        "ii. casualties\\\n",
        "a. most no. of casualties is 319176 over Private citizen & property\\\n",
        "b. least no. of casualties is 56 over Abortion Related\n",
        "\n",
        "iii. killed\\\n",
        "a. most no. of people killed is 140504 over Private citizen & property\\\n",
        "b. least no. of people killed is 10 over Abortion Related\n",
        "\n",
        "iv. wounded\\\n",
        "a. most no. of people wounded is 178672 over Private citizen & property\\\n",
        "b. least no. of people wounded is 46 over Abortion Related"
      ],
      "metadata": {
        "id": "Po6ZPi4hphqO"
      }
    },
    {
      "cell_type": "markdown",
      "source": [
        "##### 3. Will the gained insights help creating a positive business impact? \n",
        "Are there any insights that lead to negative growth? Justify with specific reason."
      ],
      "metadata": {
        "id": "b0JNsNcRphqO"
      }
    },
    {
      "cell_type": "markdown",
      "source": [
        "by this, we can kepe eye on this type of thing, and give little more security on that point or area "
      ],
      "metadata": {
        "id": "xvSq8iUTphqO"
      }
    },
    {
      "cell_type": "markdown",
      "source": [
        "#### Chart - 8 - Group and country wise attack\n",
        "    i. sorting by number of attacks"
      ],
      "metadata": {
        "id": "BZR9WyysphqO"
      }
    },
    {
      "cell_type": "code",
      "source": [
        "group_country_wise = terrorism[[\"Group Name\", \"Country\"]].value_counts().drop(\"Unknown\")\n",
        "\n",
        "group_country_wise.head(10)"
      ],
      "metadata": {
        "id": "PoNhjFF028JJ"
      },
      "execution_count": null,
      "outputs": []
    },
    {
      "cell_type": "code",
      "source": [
        "group_country_wise.head(10).plot(kind=\"bar\", color=\"cornflowerblue\", figsize=(15, 6))\n",
        "plt.title(\"Country with most attacks by a particular group\", fontsize=15)\n",
        "plt.xlabel(\"(Terrorist Group, Country)\", fontsize=15)\n",
        "plt.ylabel(\"Number of casualties\", fontsize=15)\n",
        "plt.show()"
      ],
      "metadata": {
        "id": "O5cbBjry294I"
      },
      "execution_count": null,
      "outputs": []
    },
    {
      "cell_type": "markdown",
      "source": [
        "ii. Sorting by number of casualties"
      ],
      "metadata": {
        "id": "9e-xPBYs3AOC"
      }
    },
    {
      "cell_type": "code",
      "source": [
        "group_casualties = terrorism[[\"Group Name\", \"Country\", \"Casualty\"]].groupby([\"Group Name\", \"Country\"], axis=0).sum().sort_values(by=\"Casualty\", ascending=False).drop(\"Unknown\")\n",
        "\n",
        "group_casualties.head(10)"
      ],
      "metadata": {
        "id": "yMf1kjkH3B5w"
      },
      "execution_count": null,
      "outputs": []
    },
    {
      "cell_type": "code",
      "source": [
        "group_casualties.head(10).plot(kind=\"bar\", color=\"cornflowerblue\", figsize=(15, 6))\n",
        "plt.title(\"Country with most casualties by a particular group\", fontsize=15)\n",
        "plt.xlabel(\"(Terrorist Group, Country)\", fontsize=15)\n",
        "plt.ylabel(\"Number of casualties\", fontsize=15)\n",
        "plt.show()"
      ],
      "metadata": {
        "id": "o-yRdhMe3D9p"
      },
      "execution_count": null,
      "outputs": []
    },
    {
      "cell_type": "markdown",
      "source": [
        "iii. Sorting by number of people killed"
      ],
      "metadata": {
        "id": "YnT8f4p53G0g"
      }
    },
    {
      "cell_type": "code",
      "source": [
        "group_people_killed = terrorism[[\"Group Name\", \"Country\", \"Killed\"]].groupby([\"Group Name\", \"Country\"], axis=0).sum().sort_values(by=\"Killed\", ascending=False).drop(\"Unknown\")\n",
        "\n",
        "group_people_killed"
      ],
      "metadata": {
        "id": "6iE1A49u3Iaj"
      },
      "execution_count": null,
      "outputs": []
    },
    {
      "cell_type": "code",
      "source": [
        "group_people_killed.head(10).plot(kind=\"bar\", color=\"cornflowerblue\", figsize=(15, 6))\n",
        "plt.title(\"Country with most people killed by a particular group\", fontsize=15)\n",
        "plt.xlabel(\"(Terrorist Group, Country)\", fontsize=15)\n",
        "plt.ylabel(\"Number of people killed\", fontsize=15)\n",
        "plt.show()"
      ],
      "metadata": {
        "id": "2y-HG5lQ3KQ3"
      },
      "execution_count": null,
      "outputs": []
    },
    {
      "cell_type": "markdown",
      "source": [
        "iv. Sorting by number of people wounded"
      ],
      "metadata": {
        "id": "t-0nCS5-3MVe"
      }
    },
    {
      "cell_type": "code",
      "source": [
        "group_people_wounded = terrorism[[\"Group Name\", \"Country\", \"Wounded\"]].groupby([\"Group Name\", \"Country\"], axis=0).sum().sort_values(by=\"Wounded\", ascending=False).drop(\"Unknown\")\n",
        "\n",
        "group_people_wounded.head(10)"
      ],
      "metadata": {
        "id": "yUyVhLIU3Nth"
      },
      "execution_count": null,
      "outputs": []
    },
    {
      "cell_type": "code",
      "source": [
        "group_people_wounded.head(10).head(10).plot(kind=\"bar\", color=\"cornflowerblue\", figsize=(15, 6))\n",
        "plt.title(\"Country with most people wounded by a particular group\", fontsize=15)\n",
        "plt.xlabel(\"(Terrorist Group, Country)\", fontsize=15)\n",
        "plt.ylabel(\"Number of people wounded\", fontsize=15)\n",
        "plt.show()"
      ],
      "metadata": {
        "id": "7tcnDD7T3PNp"
      },
      "execution_count": null,
      "outputs": []
    },
    {
      "cell_type": "code",
      "source": [
        "# Chart - 8 visualization code"
      ],
      "metadata": {
        "id": "TdPTWpAVphqO"
      },
      "execution_count": null,
      "outputs": []
    },
    {
      "cell_type": "markdown",
      "source": [
        "##### 1. Why did you pick the specific chart?"
      ],
      "metadata": {
        "id": "jj7wYXLtphqO"
      }
    },
    {
      "cell_type": "markdown",
      "source": [
        "by this we get to know whch country is most attacked done by terror goup"
      ],
      "metadata": {
        "id": "Ob8u6rCTphqO"
      }
    },
    {
      "cell_type": "markdown",
      "source": [
        "##### 2. What is/are the insight(s) found from the chart?"
      ],
      "metadata": {
        "id": "eZrbJ2SmphqO"
      }
    },
    {
      "cell_type": "markdown",
      "source": [
        "i. attacks\\\n",
        "a. most no. of attacks 74423 by Taliban in Afganistan\\\n",
        "b. least no. of attack 2087 by Boko Haram in Nigeria\n",
        "\n",
        "ii. casualties\\\n",
        "a. most no. of casualties in 57140 by Taliban in Afganistan\\\n",
        "b. least no. of casualties 12068 by Farabundo Marti National Liberaion Front (FMLM) in El-salvador\n",
        "\n",
        "iii. killed\\\n",
        "a. most no. of people killed 31058 by Islamic State of Iraq and the levant (ISIL) in Iraq\\\n",
        "b. least no. of people killed 150 in Australasia & Oceania\n",
        "\n",
        "iv. wounded\\\n",
        "a. most no. of people wounded 27871 by Taliban in Afganistan\\\n",
        "b. least no. of people wounded 4795 by Kurdistan workers party(PKK) in Turkey"
      ],
      "metadata": {
        "id": "mZtgC_hjphqO"
      }
    },
    {
      "cell_type": "markdown",
      "source": [
        "##### 3. Will the gained insights help creating a positive business impact? \n",
        "Are there any insights that lead to negative growth? Justify with specific reason."
      ],
      "metadata": {
        "id": "rFu4xreNphqO"
      }
    },
    {
      "cell_type": "markdown",
      "source": [
        "by this that perticular country make there intelagence more advance.\n",
        "\n",
        "make border security high\n",
        "\n",
        "use high tech machines or by it from other country"
      ],
      "metadata": {
        "id": "ey_0qi68phqO"
      }
    },
    {
      "cell_type": "markdown",
      "source": [
        "#### Chart - 9 - Humanity affected by terror attacks\n",
        "    i. total casualty due to terror attack\n"
      ],
      "metadata": {
        "id": "YJ55k-q6phqO"
      }
    },
    {
      "cell_type": "code",
      "source": [
        "casualty =  terrorism.loc[:,\"Casualty\"].sum()\n",
        "print(\"total number of casualties due to terrorist attack across the world :\\n\", casualty)"
      ],
      "metadata": {
        "id": "GPB4jMso3ZYN"
      },
      "execution_count": null,
      "outputs": []
    },
    {
      "cell_type": "markdown",
      "source": [
        "ii. killed due to terror attack"
      ],
      "metadata": {
        "id": "P4CHOFNm3cD-"
      }
    },
    {
      "cell_type": "code",
      "source": [
        "kill = terrorism.loc[:,\"Killed\"].sum()\n",
        "print(\"total number of people killed due to terrorist attack across the world :\\n\", kill)"
      ],
      "metadata": {
        "id": "yiou3YxM3doF"
      },
      "execution_count": null,
      "outputs": []
    },
    {
      "cell_type": "markdown",
      "source": [
        "iii. wounded due to terrorist attacks"
      ],
      "metadata": {
        "id": "lxQCOCUJ3gOC"
      }
    },
    {
      "cell_type": "code",
      "source": [
        "wound = terrorism.loc[:,\"Wounded\"].sum()\n",
        "print(\"total number of people wounded due to terrorist attack across the world :\\n\", wound)"
      ],
      "metadata": {
        "id": "-DTZ8PTR3hB9"
      },
      "execution_count": null,
      "outputs": []
    },
    {
      "cell_type": "markdown",
      "source": [
        "#OBSERVATION"
      ],
      "metadata": {
        "id": "fVEf7OVQ35TP"
      }
    },
    {
      "cell_type": "markdown",
      "source": [
        "## 1. Year wise attack\n",
        "  i. attacks\\\n",
        "    a. most no. of attacks is 16903 in 2014\\\n",
        "    b. least no. of attack is 471 in 1971\\\n",
        "  ii. casualties.\\\n",
        "    a. most no. of casualties is 85618 in 2014.\\\n",
        "    b. least no. of casualties is 255 in 1971\\\n",
        "  iii. killed\\\n",
        "    a. most no. of people killed is 44490 in 2014\\\n",
        "    b. least no. of people killed is 255 in 191\\\n",
        "  iv. wounded\\\n",
        "   a. most no. of people wounded is 44043 in 2015\\\n",
        "    b. least no. of people wounded is 82 in 1971"
      ],
      "metadata": {
        "id": "UOGUjsQa36Dk"
      }
    },
    {
      "cell_type": "markdown",
      "source": [
        "## 2. Region wise attack\n",
        "  i. attacks\\\n",
        "a. most no. of attacks 50474 in Middle-East & North-Africa\\\n",
        "b. least no. of attack 282 in Australasia & Oceania\\\n",
        "ii. casualties\\\n",
        "a. most no. of casualties in 351950 in Middle-East & North-Africa\\\n",
        "b. least no. of casualties 410 in Australasia & Oceania\\\n",
        "iii. killed\\\n",
        "a. most no. of people killed 137642 in Middle-East & North-Africa\\\n",
        "b. least no. of people killed 150 in Australasia & Oceania\\\n",
        "iv. wounded\\\n",
        "a. most no. of people wounded 214308 in Middle-East & North-Africa\\\n",
        "b. least no. of people wounded 260 in Australasia & Oceania"
      ],
      "metadata": {
        "id": "4Luw6fPO3-0A"
      }
    },
    {
      "cell_type": "markdown",
      "source": [
        "## 3. Country wise attack\n",
        "i. attacks\\\n",
        "a. most no. of attacks is 24636 in Irap\\\n",
        "b. least no. of attack is 4292 in Turkey\\\n",
        "ii. casualties\\\n",
        "a. most no. of casualties is 213279 in Irap\\\n",
        "b. least no. of casualties is 222926 in Philippines\\\n",
        "iii. killed\\\n",
        "a. most no. of people killed is 78589 in Irap\\\n",
        "b. least no. of people killed is 12053 in El-salvador\\\n",
        "iv. wounded\\\n",
        "a. most no. of people wounded is 134690 in Irap\\\n",
        "b. least no. of people wounded is 10328 in Colombia"
      ],
      "metadata": {
        "id": "rul6p05l4CmM"
      }
    },
    {
      "cell_type": "markdown",
      "source": [
        "## 4. city wise attack - top 10\n",
        "i. attacks\\\n",
        "a. most no. of attacks is 7589 in Baghdad\\\n",
        "b. least no. of attack is 1019 in Athens\\\n",
        "ii. casualties\\\n",
        "a. most no. of casualties is 77876 in Baghdad\\\n",
        "b. least no. of casualties is 5748 in Aleppo\\\n",
        "iii. killed\\\n",
        "a. most no. of people killed is 21151 in Baghdad\\\n",
        "b. least no. of people killed is 2125 in Aleppo\\\n",
        "iv. wounded\\\n",
        "a. most no. of people wounded is 56725 in Baghdad\\\n",
        "b. least no. of people wounded is 4955 in Mogadishu\\"
      ],
      "metadata": {
        "id": "UtLjy8eD4H4b"
      }
    },
    {
      "cell_type": "markdown",
      "source": [
        "## 5. Region wise attack\n",
        "i. attacks\\\n",
        "a. most no. of attacks 7476 by Talban\\\n",
        "b. least no. of attack 2418 by Boko Haram\\\n",
        "ii. casualties\\\n",
        "a. most no. of casualties in 69595 by Islamic State of Iraq and the levant (ISIL)\\\n",
        "b. least no. of casualties 12130 by Farabundo Marti National Liberaion Front (FMLM)\\\n",
        "iii. killed\\\n",
        "a. most no. of people killed 38923 by Islamic State of Iraq and the levant (ISIL)\\\n",
        "b. least no. of people killed 5661 by Revolution Armed Force of Colombia(FARC)\\\n",
        "iv. wounded\\\n",
        "a. most no. of people wounded 30672 by Islamic State of Iraq and the levant (ISIL)\\\n",
        "b. least no. of people wounded 4908 by Kurdistan workers party(PKK)"
      ],
      "metadata": {
        "id": "wEe1DRZy4KCM"
      }
    },
    {
      "cell_type": "markdown",
      "source": [
        "## 6. Attack Type Wise Attack\n",
        "i. attacks\\\n",
        "a. most no. of attacks is 88255 by Bombing Explosion\\\n",
        "b. least no. of attack is 659 by Hijacking\\\n",
        "ii. casualties\\\n",
        "a. most no. of casualties is 530007 By Bombing Explosion\\\n",
        "b. least no. of casualties is 407 in Facility\\infrastructure attack\\\n",
        "iii. killed\\\n",
        "a. most no. of people killed is 160297 by Armed Asasulting\\\n",
        "b. least no. of people killed is 880 by Unarmed Assult\\\n",
        "iv. wounded\\\n",
        "a. most no. of people wounded is 372686 by Bombing Explosion\\\n",
        "b. least no. of people wounded is 3765 by Facility\\infrastructure attack"
      ],
      "metadata": {
        "id": "PKLZ3jiq4MWo"
      }
    },
    {
      "cell_type": "markdown",
      "source": [
        "## 7. Type target wise attack i. attacks\n",
        "a. most no. of attacks 43511 over Private citizen & property\\\n",
        "b. least no. of attack is 263 over Abortion Related\\\n",
        "ii. casualties\\\n",
        "a. most no. of casualties is 319176 over Private citizen & property\\\n",
        "b. least no. of casualties is 56 over Abortion Related\\\n",
        "iii. killed\\\n",
        "a. most no. of people killed is 140504 over Private citizen & property\\\n",
        "b. least no. of people killed is 10 over Abortion Related\\\n",
        "iv. wounded\\\n",
        "a. most no. of people wounded is 178672 over Private citizen & property\\\n",
        "b. least no. of people wounded is 46 over Abortion Related"
      ],
      "metadata": {
        "id": "iJ-SaUG64Ot2"
      }
    },
    {
      "cell_type": "markdown",
      "source": [
        "## 8. Group and country wise attack\n",
        "i. attacks\\\n",
        "a. most no. of attacks 74423 by Taliban in Afganistan\\\n",
        " b. least no. of attack 2087 by Boko Haram in Nigeria\\\n",
        "ii. casualties\\\n",
        "a. most no. of casualties in 57140 by Taliban in Afganistan\\\n",
        " b. least no. of casualties 12068 by Farabundo Marti National Liberaion Front (FMLM) in El-salvador\\\n",
        "  iii. killed\\\n",
        "a. most no. of people killed 31058 by Islamic State of Iraq and the levant (ISIL) in Iraq\\\n",
        "b. least no. of people killed 150 in Australasia & Oceania\\\n",
        "iv. wounded\\\n",
        "a. most no. of people wounded 27871 by Taliban in Afganistan\\\n",
        "b. least no. of people wounded 4795 by Kurdistan workers party(PKK) in Turkey"
      ],
      "metadata": {
        "id": "w48hpbos4RI4"
      }
    },
    {
      "cell_type": "markdown",
      "source": [
        "## 9. Humanity affected by terror attacks\n",
        "i. Total number of casualties due to terrorist attack across the world : 935737.0\n",
        "\n",
        "ii. Total number of people killed due to terrorist attack across the world : 411868.0\n",
        "\n",
        "iii. Total number of people wounded due to terrorist attack across the world : 523869.0"
      ],
      "metadata": {
        "id": "R8hfnR3d4TVd"
      }
    },
    {
      "cell_type": "markdown",
      "source": [
        "## **5. Solution to Business Objective**"
      ],
      "metadata": {
        "id": "JcMwzZxoAimU"
      }
    },
    {
      "cell_type": "markdown",
      "source": [
        "#### What do you suggest the client to achieve Business Objective ? \n"
      ],
      "metadata": {
        "id": "8G2x9gOozGDZ"
      }
    },
    {
      "cell_type": "markdown",
      "source": [
        "It provides adequate information to Takle about it like\n",
        "1. causes behind it\n",
        "2. type of terror group\n",
        "3. who did it\n",
        "4. categorized like bombing or kidnapping etc.\n",
        "5. disturbance of terrorism6. statical information like\\\n",
        " i. how many people killed \\\n",
        " ii. wounded \\\n",
        " iii. casualties"
      ],
      "metadata": {
        "id": "pASKb0qOza21"
      }
    },
    {
      "cell_type": "markdown",
      "source": [
        "# **Conclusion**"
      ],
      "metadata": {
        "id": "gCX9965dhzqZ"
      }
    },
    {
      "cell_type": "markdown",
      "source": [
        "Terrorist acts in the Middle East and northern Africa have been seen to have fatal consequences. The Middle East and North Africa are seen to be the places of serious terrorist attacks. In addition, even though there is a perception that Muslims are supporters of terrorism, Muslims are the people who are most damaged by terrorist attacks. If you look at the graphics, it appears that Iraq, Afghanistan and Pakistan are the most damaged countries. All of these countries are Muslim countries."
      ],
      "metadata": {
        "id": "Fjb1IsQkh3yE"
      }
    },
    {
      "cell_type": "markdown",
      "source": [
        "### ***Hurrah! You have successfully completed your EDA Capstone Project !!!***"
      ],
      "metadata": {
        "id": "gIfDvo9L0UH2"
      }
    }
  ]
}